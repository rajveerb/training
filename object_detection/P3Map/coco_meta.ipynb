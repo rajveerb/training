{
 "cells": [
  {
   "cell_type": "code",
   "execution_count": 11,
   "metadata": {},
   "outputs": [],
   "source": [
    "import json"
   ]
  },
  {
   "cell_type": "code",
   "execution_count": 12,
   "metadata": {},
   "outputs": [],
   "source": [
    "f = \"../pytorch/datasets/coco/annotations/instances_train2017.json\""
   ]
  },
  {
   "cell_type": "code",
   "execution_count": 13,
   "metadata": {},
   "outputs": [],
   "source": [
    "# open the file\n",
    "data = json.load(open(f))\n",
    "    \n",
    "    "
   ]
  },
  {
   "cell_type": "code",
   "execution_count": 14,
   "metadata": {},
   "outputs": [
    {
     "data": {
      "text/plain": [
       "dict_keys(['info', 'licenses', 'images', 'annotations', 'categories'])"
      ]
     },
     "execution_count": 14,
     "metadata": {},
     "output_type": "execute_result"
    }
   ],
   "source": [
    "data.keys()"
   ]
  },
  {
   "cell_type": "code",
   "execution_count": 15,
   "metadata": {},
   "outputs": [
    {
     "data": {
      "text/plain": [
       "{'description': 'COCO 2017 Dataset',\n",
       " 'url': 'http://cocodataset.org',\n",
       " 'version': '1.0',\n",
       " 'year': 2017,\n",
       " 'contributor': 'COCO Consortium',\n",
       " 'date_created': '2017/09/01'}"
      ]
     },
     "execution_count": 15,
     "metadata": {},
     "output_type": "execute_result"
    }
   ],
   "source": [
    "data['info']"
   ]
  },
  {
   "cell_type": "code",
   "execution_count": 16,
   "metadata": {},
   "outputs": [
    {
     "data": {
      "text/plain": [
       "{'url': 'http://creativecommons.org/licenses/by-nc-sa/2.0/',\n",
       " 'id': 1,\n",
       " 'name': 'Attribution-NonCommercial-ShareAlike License'}"
      ]
     },
     "execution_count": 16,
     "metadata": {},
     "output_type": "execute_result"
    }
   ],
   "source": [
    "data['licenses'][0]"
   ]
  },
  {
   "cell_type": "code",
   "execution_count": 17,
   "metadata": {},
   "outputs": [
    {
     "data": {
      "text/plain": [
       "{'license': 3,\n",
       " 'file_name': '000000391895.jpg',\n",
       " 'coco_url': 'http://images.cocodataset.org/train2017/000000391895.jpg',\n",
       " 'height': 360,\n",
       " 'width': 640,\n",
       " 'date_captured': '2013-11-14 11:18:45',\n",
       " 'flickr_url': 'http://farm9.staticflickr.com/8186/8119368305_4e622c8349_z.jpg',\n",
       " 'id': 391895}"
      ]
     },
     "execution_count": 17,
     "metadata": {},
     "output_type": "execute_result"
    }
   ],
   "source": [
    "data['images'][0]"
   ]
  },
  {
   "cell_type": "code",
   "execution_count": 18,
   "metadata": {},
   "outputs": [
    {
     "data": {
      "text/plain": [
       "{'segmentation': [[239.97,\n",
       "   260.24,\n",
       "   222.04,\n",
       "   270.49,\n",
       "   199.84,\n",
       "   253.41,\n",
       "   213.5,\n",
       "   227.79,\n",
       "   259.62,\n",
       "   200.46,\n",
       "   274.13,\n",
       "   202.17,\n",
       "   277.55,\n",
       "   210.71,\n",
       "   249.37,\n",
       "   253.41,\n",
       "   237.41,\n",
       "   264.51,\n",
       "   242.54,\n",
       "   261.95,\n",
       "   228.87,\n",
       "   271.34]],\n",
       " 'area': 2765.1486500000005,\n",
       " 'iscrowd': 0,\n",
       " 'image_id': 558840,\n",
       " 'bbox': [199.84, 200.46, 77.71, 70.88],\n",
       " 'category_id': 58,\n",
       " 'id': 156}"
      ]
     },
     "execution_count": 18,
     "metadata": {},
     "output_type": "execute_result"
    }
   ],
   "source": [
    "data['annotations'][0]"
   ]
  },
  {
   "cell_type": "code",
   "execution_count": 19,
   "metadata": {},
   "outputs": [
    {
     "name": "stdout",
     "output_type": "stream",
     "text": [
      "{'supercategory': 'kitchen', 'id': 51, 'name': 'bowl'}\n",
      "{'supercategory': 'appliance', 'id': 81, 'name': 'sink'}\n"
     ]
    }
   ],
   "source": [
    "print(data['categories'][45])\n",
    "print(data['categories'][71])"
   ]
  },
  {
   "cell_type": "code",
   "execution_count": 21,
   "metadata": {},
   "outputs": [],
   "source": [
    "# OtherPreOps_data\n",
    "OtherPreOps_images = [{\"license\": 1,\"file_name\": \"random_image10MB.jpg\",\"coco_url\": \"http://images.cocodataset.org/train2017/000000479400.jpg\",\"height\": 640,\"width\": 434,\"date_captured\": \"2013-11-15 02:12:20\",\"flickr_url\": \"http://farm9.staticflickr.com/8516/8472642889_827b8258d1_z.jpg\",\"id\": 479400}]\n",
    "OtherPreOps_annotations = [{'segmentation': [[66.16, 493.3, 102.11, 542.2, 161.08, 598.29, 217.17, 602.61, 268.94, 568.09, 304.9, 520.63, 320.72, 453.03, 313.53, 442.97, 296.27, 421.39, 263.19, 395.51, 189.84, 365.3, 140.94, 350.92, 79.1, 356.67, 38.83, 373.93, 44.58, 432.9, 61.84, 499.06]], 'area': 49810.38265, 'iscrowd': 0, 'image_id': 479400, 'bbox': [38.83, 350.92, 281.89, 251.69], 'category_id': 51, 'id': 1039016}, {'segmentation': [[371.8, 326.08, 356.99, 324.3, 344.55, 321.64, 339.52, 318.97, 337.74, 318.08, 336.85, 308.9, 338.63, 306.24, 343.96, 304.76, 365.58, 303.28, 380.09, 303.87, 392.53, 305.35, 405.26, 307.42, 408.81, 310.38, 408.81, 321.04, 408.22, 322.82, 400.52, 324.6, 384.83, 325.49, 376.24, 325.78]], 'area': 1377.9213500000003, 'iscrowd': 0, 'image_id': 479400, 'bbox': [336.85, 303.28, 71.96, 22.8], 'category_id': 81, 'id': 1645897}, {'segmentation': [[240.74, 294.68, 242.3, 303.08, 247.19, 305.62, 263.4, 307.57, 274.34, 306.79, 287.63, 305.03, 294.27, 303.86, 295.25, 301.32, 296.03, 294.48, 287.04, 291.16, 278.05, 290.97, 266.14, 290.19, 254.42, 291.36, 246.21, 293.12]], 'area': 776.196999999999, 'iscrowd': 0, 'image_id': 479400, 'bbox': [240.74, 290.19, 55.29, 17.38], 'category_id': 81, 'id': 1646645}]\n",
    "OtherPreOps_categories = [{'supercategory': 'kitchen', 'id': 51, 'name': 'bowl'},{'supercategory': 'appliance', 'id': 81, 'name': 'sink'}]\n",
    "OtherPreOps_info = {'description': 'COCO 2017 Dataset',\n",
    " 'url': 'http://cocodataset.org',\n",
    " 'version': '1.0',\n",
    " 'year': 2017,\n",
    " 'contributor': 'COCO Consortium',\n",
    " 'date_created': '2017/09/01'}\n",
    "OtherPreOps_licenses = [{'url': 'http://creativecommons.org/licenses/by-nc-sa/2.0/',\n",
    " 'id': 1,\n",
    " 'name': 'Attribution-NonCommercial-ShareAlike License'}]"
   ]
  },
  {
   "cell_type": "code",
   "execution_count": 22,
   "metadata": {},
   "outputs": [],
   "source": [
    "# BatchCollator_data\n",
    "BatchCollator_images = [{\"license\": 1,\"file_name\": \"000000479400.jpg\",\"coco_url\": \"http://images.cocodataset.org/train2017/000000479400.jpg\",\"height\": 640,\"width\": 434,\"date_captured\": \"2013-11-15 02:12:20\",\"flickr_url\": \"http://farm9.staticflickr.com/8516/8472642889_827b8258d1_z.jpg\",\"id\": 479400}]\n",
    "BatchCollator_annotations = [{'segmentation': [[66.16, 493.3, 102.11, 542.2, 161.08, 598.29, 217.17, 602.61, 268.94, 568.09, 304.9, 520.63, 320.72, 453.03, 313.53, 442.97, 296.27, 421.39, 263.19, 395.51, 189.84, 365.3, 140.94, 350.92, 79.1, 356.67, 38.83, 373.93, 44.58, 432.9, 61.84, 499.06]], 'area': 49810.38265, 'iscrowd': 0, 'image_id': 479400, 'bbox': [38.83, 350.92, 281.89, 251.69], 'category_id': 51, 'id': 1039016}, {'segmentation': [[371.8, 326.08, 356.99, 324.3, 344.55, 321.64, 339.52, 318.97, 337.74, 318.08, 336.85, 308.9, 338.63, 306.24, 343.96, 304.76, 365.58, 303.28, 380.09, 303.87, 392.53, 305.35, 405.26, 307.42, 408.81, 310.38, 408.81, 321.04, 408.22, 322.82, 400.52, 324.6, 384.83, 325.49, 376.24, 325.78]], 'area': 1377.9213500000003, 'iscrowd': 0, 'image_id': 479400, 'bbox': [336.85, 303.28, 71.96, 22.8], 'category_id': 81, 'id': 1645897}, {'segmentation': [[240.74, 294.68, 242.3, 303.08, 247.19, 305.62, 263.4, 307.57, 274.34, 306.79, 287.63, 305.03, 294.27, 303.86, 295.25, 301.32, 296.03, 294.48, 287.04, 291.16, 278.05, 290.97, 266.14, 290.19, 254.42, 291.36, 246.21, 293.12]], 'area': 776.196999999999, 'iscrowd': 0, 'image_id': 479400, 'bbox': [240.74, 290.19, 55.29, 17.38], 'category_id': 81, 'id': 1646645}]\n",
    "BatchCollator_categories = [{'supercategory': 'kitchen', 'id': 51, 'name': 'bowl'},{'supercategory': 'appliance', 'id': 81, 'name': 'sink'}]\n",
    "BatchCollator_info = {'description': 'COCO 2017 Dataset',\n",
    " 'url': 'http://cocodataset.org',\n",
    " 'version': '1.0',\n",
    " 'year': 2017,\n",
    " 'contributor': 'COCO Consortium',\n",
    " 'date_created': '2017/09/01'}\n",
    "BatchCollator_licenses = [{'url': 'http://creativecommons.org/licenses/by-nc-sa/2.0/',\n",
    " 'id': 1,\n",
    " 'name': 'Attribution-NonCommercial-ShareAlike License'}]"
   ]
  },
  {
   "cell_type": "code",
   "execution_count": 23,
   "metadata": {},
   "outputs": [],
   "source": [
    "OtherPreOps_data = {'info': OtherPreOps_info, 'licenses': OtherPreOps_licenses, 'images': OtherPreOps_images, 'annotations': OtherPreOps_annotations, 'categories': OtherPreOps_categories} \n",
    "BatchCollator_data = {'info': BatchCollator_info, 'licenses': BatchCollator_licenses, 'images': BatchCollator_images, 'annotations': BatchCollator_annotations, 'categories': BatchCollator_categories}"
   ]
  },
  {
   "cell_type": "code",
   "execution_count": 24,
   "metadata": {},
   "outputs": [],
   "source": [
    "# dump json\n",
    "json.dump(OtherPreOps_data, open(\"OtherPreOps_data.json\", \"w\"))\n",
    "json.dump(BatchCollator_data, open(\"BatchCollator_data.json\", \"w\"))"
   ]
  }
 ],
 "metadata": {
  "kernelspec": {
   "display_name": "instrumentation_env",
   "language": "python",
   "name": "python3"
  },
  "language_info": {
   "codemirror_mode": {
    "name": "ipython",
    "version": 3
   },
   "file_extension": ".py",
   "mimetype": "text/x-python",
   "name": "python",
   "nbconvert_exporter": "python",
   "pygments_lexer": "ipython3",
   "version": "3.8.19"
  }
 },
 "nbformat": 4,
 "nbformat_minor": 2
}
