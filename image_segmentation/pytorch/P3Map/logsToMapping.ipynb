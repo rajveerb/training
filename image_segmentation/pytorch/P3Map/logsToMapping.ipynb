{
 "cells": [
  {
   "cell_type": "code",
   "execution_count": 4,
   "metadata": {},
   "outputs": [],
   "source": [
    "import pandas as pd\n",
    "import os,json"
   ]
  },
  {
   "cell_type": "code",
   "execution_count": 5,
   "metadata": {},
   "outputs": [
    {
     "name": "stdout",
     "output_type": "stream",
     "text": [
      "Common functions for Cast are {'munmap|libc.so.6', '__memmove_avx_unaligned_erms|libc.so.6'}\n",
      "Common functions for LoadImage are {'__GI__IO_fread|libc.so.6', 'method_vectorcall_NOARGS|python3.8'}\n",
      "Common functions for RandFlip are {'_PyDict_LoadGlobal|python3.8', '_contig_to_contig|_multiarray_umath.cpython-38-x86_64-linux-gnu.so', '_aligned_strided_to_contig_size1|_multiarray_umath.cpython-38-x86_64-linux-gnu.so', '[Outside any known module]|[Unknown]', '_aligned_strided_to_contig_size4|_multiarray_umath.cpython-38-x86_64-linux-gnu.so', '<listcomp>|numeric.py', 'raw_array_assign_array|_multiarray_umath.cpython-38-x86_64-linux-gnu.so', 'munmap|libc.so.6', '__memmove_avx_unaligned_erms|libc.so.6'}\n",
      "Common functions for GaussianNoise are {'__log_compat|libm.so.6', '__vfprintf|libc-dynamic.so', '__pyx_f_5numpy_6random_7_common_cont|_common.cpython-38-x86_64-linux-gnu.so', 'FLOAT_add_AVX2|_multiarray_umath.cpython-38-x86_64-linux-gnu.so', 'legacy_normal|mtrand.cpython-38-x86_64-linux-gnu.so', '_aligned_contig_cast_double_to_float|_multiarray_umath.cpython-38-x86_64-linux-gnu.so', '__pyx_f_5numpy_6random_8_mt19937_mt19937_double|_mt19937.cpython-38-x86_64-linux-gnu.so', 'func@0xc1d0|mtrand.cpython-38-x86_64-linux-gnu.so', 'munmap|libc.so.6', 'legacy_gauss|mtrand.cpython-38-x86_64-linux-gnu.so', 'mt19937_gen|_mt19937.cpython-38-x86_64-linux-gnu.so', '__ieee754_log_fma|libm.so.6'}\n",
      "Common functions for RandBalancedCrop are {'__pyx_fuse_2__pyx_f_9_ni_label_fused_read_line|_ni_label.cpython-38-x86_64-linux-gnu.so', 'UBYTE_greater_AVX2|_multiarray_umath.cpython-38-x86_64-linux-gnu.so', '__pyx_f_9_ni_label_label_line_with_neighbor|_ni_label.cpython-38-x86_64-linux-gnu.so', 'array_boolean_subscript|_multiarray_umath.cpython-38-x86_64-linux-gnu.so', 'PyContextVar_Get|python3.8', '__pyx_pw_9_ni_label_7_label|_ni_label.cpython-38-x86_64-linux-gnu.so', '__memset_avx2_unaligned_erms|libc.so.6', 'count_nonzero_u8|_multiarray_umath.cpython-38-x86_64-linux-gnu.so', '__pyx_fuse_2__pyx_f_9_ni_label_fused_write_line|_ni_label.cpython-38-x86_64-linux-gnu.so', '__memmove_avx_unaligned_erms|libc.so.6', 'INT_maximum_AVX2|_multiarray_umath.cpython-38-x86_64-linux-gnu.so', 'NI_FindObjects|_nd_image.cpython-38-x86_64-linux-gnu.so', 'UBYTE_equal_AVX2|_multiarray_umath.cpython-38-x86_64-linux-gnu.so', '__pyx_fuse_4__pyx_f_9_ni_label_fused_nonzero_line|_ni_label.cpython-38-x86_64-linux-gnu.so'}\n",
      "Common functions for RandomBrightnessAugmentation are {'generic_wrapped_legacy_loop|_multiarray_umath.cpython-38-x86_64-linux-gnu.so', '_aligned_contig_cast_float_to_double|_multiarray_umath.cpython-38-x86_64-linux-gnu.so', 'npyiter_copy_to_buffers|_multiarray_umath.cpython-38-x86_64-linux-gnu.so', '_aligned_contig_cast_double_to_float|_multiarray_umath.cpython-38-x86_64-linux-gnu.so', 'DOUBLE_multiply_AVX2|_multiarray_umath.cpython-38-x86_64-linux-gnu.so', 'munmap|libc.so.6', 'npyiter_buffered_iternext|_multiarray_umath.cpython-38-x86_64-linux-gnu.so'}\n"
     ]
    }
   ],
   "source": [
    "# need to clean up this block of code\n",
    "csv_dir=\"logs\"\n",
    "program_file_dir=\".\"\n",
    "# get all program files that end with .py\n",
    "program_files = [f for f in os.listdir(program_file_dir) if f.endswith(\".py\")]\n",
    "program = program_files[0].split(\".\")[0]\n",
    "same_program_csv_dir=os.path.join(csv_dir,program)\n",
    "# samples = total number of runs for each program\n",
    "samples = len(os.listdir(same_program_csv_dir))\n",
    "op_to_func = {}\n",
    "\n",
    "# loop through csv files in csv_dir\n",
    "for program_ in program_files:\n",
    "    program = program_.split(\".\")[0]\n",
    "    same_program_csv_dir=os.path.join(csv_dir,program)\n",
    "    common_funcs_per_op = set()\n",
    "    c_func_to_count = {}\n",
    "    for csv_file in os.listdir(same_program_csv_dir):\n",
    "        df = pd.read_csv(os.path.join(same_program_csv_dir,csv_file))\n",
    "        # merge two columns with \"|\" as separator\n",
    "        df[\"full_func\"] = df['Function'].astype(str) + \"|\" + df['Module'].astype(str)\n",
    "        # loop through each function in the column 'full_func'\n",
    "        for func in df[\"full_func\"].values:\n",
    "            # if function is not in the dictionary, add it\n",
    "            if func not in c_func_to_count:\n",
    "                c_func_to_count[func] = 1\n",
    "            # else increment the count\n",
    "            else:\n",
    "                c_func_to_count[func] += 1\n",
    "\n",
    "    for func in c_func_to_count:\n",
    "        # i.e. present in more than half of the samples\n",
    "        # if c_func_to_count[func] > samples//2:\n",
    "        common_funcs_per_op.add(func)        \n",
    "\n",
    "    op_to_func[program] = list(common_funcs_per_op)\n",
    "    print(f\"Common functions for {program} are {common_funcs_per_op}\")"
   ]
  },
  {
   "cell_type": "code",
   "execution_count": 6,
   "metadata": {},
   "outputs": [
    {
     "data": {
      "text/plain": [
       "{'Cast': ['munmap|libc.so.6', '__memmove_avx_unaligned_erms|libc.so.6'],\n",
       " 'LoadImage': ['__GI__IO_fread|libc.so.6',\n",
       "  'method_vectorcall_NOARGS|python3.8'],\n",
       " 'RandFlip': ['_PyDict_LoadGlobal|python3.8',\n",
       "  '_contig_to_contig|_multiarray_umath.cpython-38-x86_64-linux-gnu.so',\n",
       "  '_aligned_strided_to_contig_size1|_multiarray_umath.cpython-38-x86_64-linux-gnu.so',\n",
       "  '[Outside any known module]|[Unknown]',\n",
       "  '_aligned_strided_to_contig_size4|_multiarray_umath.cpython-38-x86_64-linux-gnu.so',\n",
       "  '<listcomp>|numeric.py',\n",
       "  'raw_array_assign_array|_multiarray_umath.cpython-38-x86_64-linux-gnu.so',\n",
       "  'munmap|libc.so.6',\n",
       "  '__memmove_avx_unaligned_erms|libc.so.6'],\n",
       " 'GaussianNoise': ['__log_compat|libm.so.6',\n",
       "  '__vfprintf|libc-dynamic.so',\n",
       "  '__pyx_f_5numpy_6random_7_common_cont|_common.cpython-38-x86_64-linux-gnu.so',\n",
       "  'FLOAT_add_AVX2|_multiarray_umath.cpython-38-x86_64-linux-gnu.so',\n",
       "  'legacy_normal|mtrand.cpython-38-x86_64-linux-gnu.so',\n",
       "  '_aligned_contig_cast_double_to_float|_multiarray_umath.cpython-38-x86_64-linux-gnu.so',\n",
       "  '__pyx_f_5numpy_6random_8_mt19937_mt19937_double|_mt19937.cpython-38-x86_64-linux-gnu.so',\n",
       "  'func@0xc1d0|mtrand.cpython-38-x86_64-linux-gnu.so',\n",
       "  'munmap|libc.so.6',\n",
       "  'legacy_gauss|mtrand.cpython-38-x86_64-linux-gnu.so',\n",
       "  'mt19937_gen|_mt19937.cpython-38-x86_64-linux-gnu.so',\n",
       "  '__ieee754_log_fma|libm.so.6'],\n",
       " 'RandBalancedCrop': ['__pyx_fuse_2__pyx_f_9_ni_label_fused_read_line|_ni_label.cpython-38-x86_64-linux-gnu.so',\n",
       "  'UBYTE_greater_AVX2|_multiarray_umath.cpython-38-x86_64-linux-gnu.so',\n",
       "  '__pyx_f_9_ni_label_label_line_with_neighbor|_ni_label.cpython-38-x86_64-linux-gnu.so',\n",
       "  'array_boolean_subscript|_multiarray_umath.cpython-38-x86_64-linux-gnu.so',\n",
       "  'PyContextVar_Get|python3.8',\n",
       "  '__pyx_pw_9_ni_label_7_label|_ni_label.cpython-38-x86_64-linux-gnu.so',\n",
       "  '__memset_avx2_unaligned_erms|libc.so.6',\n",
       "  'count_nonzero_u8|_multiarray_umath.cpython-38-x86_64-linux-gnu.so',\n",
       "  '__pyx_fuse_2__pyx_f_9_ni_label_fused_write_line|_ni_label.cpython-38-x86_64-linux-gnu.so',\n",
       "  '__memmove_avx_unaligned_erms|libc.so.6',\n",
       "  'INT_maximum_AVX2|_multiarray_umath.cpython-38-x86_64-linux-gnu.so',\n",
       "  'NI_FindObjects|_nd_image.cpython-38-x86_64-linux-gnu.so',\n",
       "  'UBYTE_equal_AVX2|_multiarray_umath.cpython-38-x86_64-linux-gnu.so',\n",
       "  '__pyx_fuse_4__pyx_f_9_ni_label_fused_nonzero_line|_ni_label.cpython-38-x86_64-linux-gnu.so'],\n",
       " 'RandomBrightnessAugmentation': ['generic_wrapped_legacy_loop|_multiarray_umath.cpython-38-x86_64-linux-gnu.so',\n",
       "  '_aligned_contig_cast_float_to_double|_multiarray_umath.cpython-38-x86_64-linux-gnu.so',\n",
       "  'npyiter_copy_to_buffers|_multiarray_umath.cpython-38-x86_64-linux-gnu.so',\n",
       "  '_aligned_contig_cast_double_to_float|_multiarray_umath.cpython-38-x86_64-linux-gnu.so',\n",
       "  'DOUBLE_multiply_AVX2|_multiarray_umath.cpython-38-x86_64-linux-gnu.so',\n",
       "  'munmap|libc.so.6',\n",
       "  'npyiter_buffered_iternext|_multiarray_umath.cpython-38-x86_64-linux-gnu.so']}"
      ]
     },
     "execution_count": 6,
     "metadata": {},
     "output_type": "execute_result"
    }
   ],
   "source": [
    "op_to_func"
   ]
  },
  {
   "cell_type": "code",
   "execution_count": 7,
   "metadata": {},
   "outputs": [],
   "source": [
    "\n",
    "def find_common_cpp_func(op_to_func):\n",
    "    # find functions found in other ops\n",
    "    common_funcs_to_op = {}\n",
    "    # loop through all programs\n",
    "    for python_func in op_to_func.keys():\n",
    "        # loop through all functions in the program\n",
    "        for func in op_to_func[python_func]:\n",
    "            # loop through all other programs\n",
    "            for other_python_func in op_to_func.keys():\n",
    "                # skip if the program is the same as the current program\n",
    "                if other_python_func == python_func:\n",
    "                    continue\n",
    "                # if the function is found in other programs\n",
    "                if func in op_to_func[other_python_func]:\n",
    "                    # add the function to the set of common functions\n",
    "                    if func not in common_funcs_to_op:\n",
    "                        common_funcs_to_op[func] = [python_func,other_python_func]\n",
    "                    elif python_func not in common_funcs_to_op[func] or other_python_func not in common_funcs_to_op[func]:\n",
    "                        common_funcs_to_op[func].append(other_python_func)\n",
    "    return common_funcs_to_op"
   ]
  },
  {
   "cell_type": "code",
   "execution_count": 8,
   "metadata": {},
   "outputs": [
    {
     "name": "stdout",
     "output_type": "stream",
     "text": [
      "C/C++ functions that can be found in multiple python operations:\n",
      "\tmunmap|libc.so.6\n",
      "\t\t->\t['Cast', 'RandFlip', 'GaussianNoise', 'RandomBrightnessAugmentation']\n",
      "\t__memmove_avx_unaligned_erms|libc.so.6\n",
      "\t\t->\t['Cast', 'RandFlip', 'RandBalancedCrop']\n",
      "\t_aligned_contig_cast_double_to_float|_multiarray_umath.cpython-38-x86_64-linux-gnu.so\n",
      "\t\t->\t['GaussianNoise', 'RandomBrightnessAugmentation']\n"
     ]
    }
   ],
   "source": [
    "common_funcs_to_op = find_common_cpp_func(op_to_func)\n",
    "print(\"C/C++ functions that can be found in multiple python operations:\")\n",
    "for func in common_funcs_to_op.keys():\n",
    "    print(f\"\\t{func}\\n\\t\\t->\\t{common_funcs_to_op[func]}\")"
   ]
  },
  {
   "cell_type": "code",
   "execution_count": 9,
   "metadata": {},
   "outputs": [],
   "source": [
    "json_string = {'op_to_func':op_to_func,'common_funcs_to_op':common_funcs_to_op}\n",
    "with open('mapping_funcs.json', 'w') as outfile:\n",
    "    json.dump(json_string, outfile,indent=4)"
   ]
  }
 ],
 "metadata": {
  "kernelspec": {
   "display_name": "torch2",
   "language": "python",
   "name": "python3"
  },
  "language_info": {
   "codemirror_mode": {
    "name": "ipython",
    "version": 3
   },
   "file_extension": ".py",
   "mimetype": "text/x-python",
   "name": "python",
   "nbconvert_exporter": "python",
   "pygments_lexer": "ipython3",
   "version": "3.8.19"
  },
  "orig_nbformat": 4
 },
 "nbformat": 4,
 "nbformat_minor": 2
}
