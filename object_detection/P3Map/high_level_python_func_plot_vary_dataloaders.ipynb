{
 "cells": [
  {
   "cell_type": "code",
   "execution_count": 16,
   "metadata": {},
   "outputs": [],
   "source": [
    "# %%\n",
    "import os,argparse,natsort\n",
    "import pandas as pd\n",
    "import matplotlib.pyplot as plt\n",
    "# display more columns\n",
    "pd.set_option('display.max_columns', 500)\n",
    "pd.set_option('display.width', 1000)\n"
   ]
  },
  {
   "cell_type": "code",
   "execution_count": 17,
   "metadata": {},
   "outputs": [],
   "source": [
    "data_dir = '../p3torch_logs'"
   ]
  },
  {
   "cell_type": "code",
   "execution_count": 18,
   "metadata": {},
   "outputs": [],
   "source": [
    "\n",
    "def generate_summary_stats_per_op(data_dir):\n",
    "\n",
    "    root_to_files = {}\n",
    "    for root, dirs, files in os.walk(data_dir):\n",
    "        root_to_files[root] = files\n",
    "    roots = sorted(root_to_files, key=lambda x: natsort.natsort_key(x.lower()))\n",
    "\n",
    "    config_to_stats = {}\n",
    "\n",
    "    # recursively find all the log files\n",
    "    for root in roots:\n",
    "        if 'e2e' in root:\n",
    "            continue\n",
    "        files = root_to_files[root]\n",
    "        print(root)\n",
    "\n",
    "        # root is in the format of /mydata/pytorch_custom_log_one_epoch_imagenet_dataset/b1024_gpu4\n",
    "        # get me the batch size and gpu count as 'b1024_gpu4\n",
    "        root = root.rstrip('/')\n",
    "        config = root.split('/')[-1]\n",
    "        print(config)\n",
    "        dataloader_config = 4\n",
    "\n",
    "\n",
    "        combine_df = pd.DataFrame()\n",
    "        for file in files:\n",
    "            if 'worker_pid' in file:\n",
    "                fp = os.path.join(root, file)\n",
    "                #  read the log file as csv with no header\n",
    "                df = pd.read_csv(fp, header=None)\n",
    "                df.columns = [\"name\", \"start\", \"dur\"]\n",
    "\n",
    "                # drop columns with name \"start\"\n",
    "                df = df.drop(columns=[\"start\"])\n",
    "\n",
    "                # divide \"dur\" column by 1,000,000 to get time in ms\n",
    "                df[\"dur\"] = df[\"dur\"] / 1000000\n",
    "                # discard the rows with name starting with SBatch\n",
    "                df = df[~df[\"name\"].str.startswith(\"SBatch\")]\n",
    "\n",
    "                # concatenate all the dataframes\n",
    "                combine_df = pd.concat([combine_df, df])\n",
    "\n",
    "        # check if the dataframe is empty\n",
    "        if combine_df.empty:\n",
    "            continue\n",
    "\n",
    "        stats_df = combine_df.groupby(\"name\").agg([\"sum\"])\n",
    "\n",
    "        # make the column names flat\n",
    "        stats_df.columns = stats_df.columns.get_level_values(0)\n",
    "        config_to_stats[dataloader_config] = stats_df\n",
    "    \n",
    "    return config_to_stats\n",
    "\n",
    "        "
   ]
  },
  {
   "cell_type": "code",
   "execution_count": 19,
   "metadata": {},
   "outputs": [
    {
     "name": "stdout",
     "output_type": "stream",
     "text": [
      "All numbers are in ms\n",
      "../p3torch_logs\n",
      "p3torch_logs\n"
     ]
    }
   ],
   "source": [
    "# %%\n",
    "print(\"All numbers are in ms\")\n",
    "config_to_stats = generate_summary_stats_per_op(data_dir)"
   ]
  },
  {
   "cell_type": "code",
   "execution_count": 20,
   "metadata": {},
   "outputs": [],
   "source": [
    "# concat all the stats into one dataframe make keys a columns with name \"config\"\n",
    "all_stats_df = pd.concat(config_to_stats).reset_index() "
   ]
  },
  {
   "cell_type": "code",
   "execution_count": 21,
   "metadata": {},
   "outputs": [
    {
     "data": {
      "text/html": [
       "<div>\n",
       "<style scoped>\n",
       "    .dataframe tbody tr th:only-of-type {\n",
       "        vertical-align: middle;\n",
       "    }\n",
       "\n",
       "    .dataframe tbody tr th {\n",
       "        vertical-align: top;\n",
       "    }\n",
       "\n",
       "    .dataframe thead th {\n",
       "        text-align: right;\n",
       "    }\n",
       "</style>\n",
       "<table border=\"1\" class=\"dataframe\">\n",
       "  <thead>\n",
       "    <tr style=\"text-align: right;\">\n",
       "      <th></th>\n",
       "      <th>level_0</th>\n",
       "      <th>name</th>\n",
       "      <th>dur</th>\n",
       "    </tr>\n",
       "  </thead>\n",
       "  <tbody>\n",
       "    <tr>\n",
       "      <th>0</th>\n",
       "      <td>4</td>\n",
       "      <td>SCollation</td>\n",
       "      <td>4.335500e+05</td>\n",
       "    </tr>\n",
       "    <tr>\n",
       "      <th>1</th>\n",
       "      <td>4</td>\n",
       "      <td>SLoad</td>\n",
       "      <td>1.125375e+06</td>\n",
       "    </tr>\n",
       "    <tr>\n",
       "      <th>2</th>\n",
       "      <td>4</td>\n",
       "      <td>SNormalize</td>\n",
       "      <td>9.152264e+05</td>\n",
       "    </tr>\n",
       "    <tr>\n",
       "      <th>3</th>\n",
       "      <td>4</td>\n",
       "      <td>SRandomHorizontalFlip</td>\n",
       "      <td>6.101571e+04</td>\n",
       "    </tr>\n",
       "    <tr>\n",
       "      <th>4</th>\n",
       "      <td>4</td>\n",
       "      <td>SResize</td>\n",
       "      <td>1.106893e+06</td>\n",
       "    </tr>\n",
       "    <tr>\n",
       "      <th>5</th>\n",
       "      <td>4</td>\n",
       "      <td>SToTensor</td>\n",
       "      <td>7.919161e+05</td>\n",
       "    </tr>\n",
       "  </tbody>\n",
       "</table>\n",
       "</div>"
      ],
      "text/plain": [
       "   level_0                   name           dur\n",
       "0        4             SCollation  4.335500e+05\n",
       "1        4                  SLoad  1.125375e+06\n",
       "2        4             SNormalize  9.152264e+05\n",
       "3        4  SRandomHorizontalFlip  6.101571e+04\n",
       "4        4                SResize  1.106893e+06\n",
       "5        4              SToTensor  7.919161e+05"
      ]
     },
     "execution_count": 21,
     "metadata": {},
     "output_type": "execute_result"
    }
   ],
   "source": [
    "all_stats_df.head(10)"
   ]
  },
  {
   "cell_type": "code",
   "execution_count": 22,
   "metadata": {},
   "outputs": [],
   "source": [
    "# replace the column name \"level_0\" with \"config\"\n",
    "all_stats_df = all_stats_df.rename(columns={\"level_0\": \"config\"})\n",
    "# replace the column name \"dur\" with \"E2E elapsed time (ms)\"\n",
    "all_stats_df = all_stats_df.rename(columns={\"dur\": \"E2E elapsed time (secs)\"})\n",
    "# replace the column name \"name\" with \"Function\"\n",
    "all_stats_df = all_stats_df.rename(columns={\"name\": \"Function\"})\n",
    "# cast config column as int\n",
    "all_stats_df[\"config\"] = all_stats_df[\"config\"].astype(int)"
   ]
  },
  {
   "cell_type": "code",
   "execution_count": 23,
   "metadata": {},
   "outputs": [],
   "source": [
    "# Strip leading 'S' in column 'Function'\n",
    "all_stats_df['Function'] = all_stats_df['Function'].str.lstrip('S')"
   ]
  },
  {
   "cell_type": "code",
   "execution_count": 24,
   "metadata": {},
   "outputs": [],
   "source": [
    "# remove column 'name' with 'STransform' \n",
    "all_stats_df = all_stats_df[~all_stats_df[\"Function\"].str.startswith(\"Transform\")]\n",
    "# # remove column 'name' with 'SCollation'\n",
    "# all_stats_df = all_stats_df[~all_stats_df[\"Function\"].str.startswith(\"Collation\")]\n",
    "# remove SLoader\n",
    "# all_stats_df = all_stats_df[~all_stats_df[\"Function\"].str.startswith(\"Loader\")]"
   ]
  },
  {
   "cell_type": "code",
   "execution_count": 25,
   "metadata": {},
   "outputs": [
    {
     "data": {
      "text/html": [
       "<div>\n",
       "<style scoped>\n",
       "    .dataframe tbody tr th:only-of-type {\n",
       "        vertical-align: middle;\n",
       "    }\n",
       "\n",
       "    .dataframe tbody tr th {\n",
       "        vertical-align: top;\n",
       "    }\n",
       "\n",
       "    .dataframe thead th {\n",
       "        text-align: right;\n",
       "    }\n",
       "</style>\n",
       "<table border=\"1\" class=\"dataframe\">\n",
       "  <thead>\n",
       "    <tr style=\"text-align: right;\">\n",
       "      <th></th>\n",
       "      <th>config</th>\n",
       "      <th>Function</th>\n",
       "      <th>E2E elapsed time (secs)</th>\n",
       "    </tr>\n",
       "  </thead>\n",
       "  <tbody>\n",
       "    <tr>\n",
       "      <th>0</th>\n",
       "      <td>4</td>\n",
       "      <td>Collation</td>\n",
       "      <td>4.335500e+05</td>\n",
       "    </tr>\n",
       "    <tr>\n",
       "      <th>1</th>\n",
       "      <td>4</td>\n",
       "      <td>Load</td>\n",
       "      <td>1.125375e+06</td>\n",
       "    </tr>\n",
       "    <tr>\n",
       "      <th>2</th>\n",
       "      <td>4</td>\n",
       "      <td>Normalize</td>\n",
       "      <td>9.152264e+05</td>\n",
       "    </tr>\n",
       "    <tr>\n",
       "      <th>3</th>\n",
       "      <td>4</td>\n",
       "      <td>RandomHorizontalFlip</td>\n",
       "      <td>6.101571e+04</td>\n",
       "    </tr>\n",
       "    <tr>\n",
       "      <th>4</th>\n",
       "      <td>4</td>\n",
       "      <td>Resize</td>\n",
       "      <td>1.106893e+06</td>\n",
       "    </tr>\n",
       "    <tr>\n",
       "      <th>5</th>\n",
       "      <td>4</td>\n",
       "      <td>ToTensor</td>\n",
       "      <td>7.919161e+05</td>\n",
       "    </tr>\n",
       "  </tbody>\n",
       "</table>\n",
       "</div>"
      ],
      "text/plain": [
       "   config              Function  E2E elapsed time (secs)\n",
       "0       4             Collation             4.335500e+05\n",
       "1       4                  Load             1.125375e+06\n",
       "2       4             Normalize             9.152264e+05\n",
       "3       4  RandomHorizontalFlip             6.101571e+04\n",
       "4       4                Resize             1.106893e+06\n",
       "5       4              ToTensor             7.919161e+05"
      ]
     },
     "execution_count": 25,
     "metadata": {},
     "output_type": "execute_result"
    }
   ],
   "source": [
    "all_stats_df.head(10)"
   ]
  },
  {
   "cell_type": "code",
   "execution_count": 26,
   "metadata": {},
   "outputs": [],
   "source": [
    "# divide the column \"E2E elapsed time (ms)\" by 1000 to get time in seconds\n",
    "all_stats_df[\"E2E elapsed time (secs)\"] = all_stats_df[\"E2E elapsed time (secs)\"] / 1000"
   ]
  },
  {
   "cell_type": "code",
   "execution_count": 27,
   "metadata": {},
   "outputs": [
    {
     "name": "stdout",
     "output_type": "stream",
     "text": [
      "Index(['config', 'Function', 'E2E elapsed time (secs)'], dtype='object')\n"
     ]
    }
   ],
   "source": [
    "print(all_stats_df.columns)"
   ]
  },
  {
   "cell_type": "code",
   "execution_count": 28,
   "metadata": {},
   "outputs": [
    {
     "data": {
      "text/html": [
       "<div>\n",
       "<style scoped>\n",
       "    .dataframe tbody tr th:only-of-type {\n",
       "        vertical-align: middle;\n",
       "    }\n",
       "\n",
       "    .dataframe tbody tr th {\n",
       "        vertical-align: top;\n",
       "    }\n",
       "\n",
       "    .dataframe thead th {\n",
       "        text-align: right;\n",
       "    }\n",
       "</style>\n",
       "<table border=\"1\" class=\"dataframe\">\n",
       "  <thead>\n",
       "    <tr style=\"text-align: right;\">\n",
       "      <th></th>\n",
       "      <th>config</th>\n",
       "      <th>Function</th>\n",
       "      <th>E2E elapsed time (secs)</th>\n",
       "    </tr>\n",
       "  </thead>\n",
       "  <tbody>\n",
       "    <tr>\n",
       "      <th>0</th>\n",
       "      <td>4</td>\n",
       "      <td>Collation</td>\n",
       "      <td>433.549978</td>\n",
       "    </tr>\n",
       "    <tr>\n",
       "      <th>1</th>\n",
       "      <td>4</td>\n",
       "      <td>Load</td>\n",
       "      <td>1125.375266</td>\n",
       "    </tr>\n",
       "    <tr>\n",
       "      <th>2</th>\n",
       "      <td>4</td>\n",
       "      <td>Normalize</td>\n",
       "      <td>915.226421</td>\n",
       "    </tr>\n",
       "    <tr>\n",
       "      <th>3</th>\n",
       "      <td>4</td>\n",
       "      <td>RandomHorizontalFlip</td>\n",
       "      <td>61.015711</td>\n",
       "    </tr>\n",
       "    <tr>\n",
       "      <th>4</th>\n",
       "      <td>4</td>\n",
       "      <td>Resize</td>\n",
       "      <td>1106.893002</td>\n",
       "    </tr>\n",
       "    <tr>\n",
       "      <th>5</th>\n",
       "      <td>4</td>\n",
       "      <td>ToTensor</td>\n",
       "      <td>791.916118</td>\n",
       "    </tr>\n",
       "  </tbody>\n",
       "</table>\n",
       "</div>"
      ],
      "text/plain": [
       "   config              Function  E2E elapsed time (secs)\n",
       "0       4             Collation               433.549978\n",
       "1       4                  Load              1125.375266\n",
       "2       4             Normalize               915.226421\n",
       "3       4  RandomHorizontalFlip                61.015711\n",
       "4       4                Resize              1106.893002\n",
       "5       4              ToTensor               791.916118"
      ]
     },
     "execution_count": 28,
     "metadata": {},
     "output_type": "execute_result"
    }
   ],
   "source": [
    "all_stats_df.head(len(all_stats_df))"
   ]
  },
  {
   "cell_type": "code",
   "execution_count": 29,
   "metadata": {},
   "outputs": [
    {
     "data": {
      "text/plain": [
       "Text(0.5, 1.0, 'Preprocessing time per operation')"
      ]
     },
     "execution_count": 29,
     "metadata": {},
     "output_type": "execute_result"
    },
    {
     "data": {
      "image/png": "[encoded data removed]",
      "text/plain": [
       "<Figure size 200x500 with 1 Axes>"
      ]
     },
     "metadata": {},
     "output_type": "display_data"
    }
   ],
   "source": [
    "# plot stacked bar chart for each config\n",
    "all_config_stacked = all_stats_df.groupby(['config', 'Function'])['E2E elapsed time (secs)'].sum().unstack()\n",
    "all_config_stacked.plot.bar(stacked=True, colormap='jet', figsize=(2,5))\n",
    "# put legend on the right of the plot\n",
    "plt.legend(bbox_to_anchor=(0.5, 1.2), loc='right', borderaxespad=0., ncol=2)\n",
    "# y axis is elapsed time in seconds\n",
    "plt.ylabel('CPU secs')\n",
    "# x axis is Dataloaders\n",
    "plt.xlabel('Dataloaders')\n",
    "# make x axis horizontal\n",
    "plt.xticks(rotation=0)\n",
    "# make title \n",
    "plt.title('Preprocessing time per operation')\n",
    "# make legend horizontal on top of the title \n"
   ]
  },
  {
   "cell_type": "code",
   "execution_count": 30,
   "metadata": {},
   "outputs": [],
   "source": [
    "# all_config_stacked save as csv\n",
    "all_config_stacked.to_csv('./all_config_stacked.csv')"
   ]
  }
 ],
 "metadata": {
  "kernelspec": {
   "display_name": "Python 3",
   "language": "python",
   "name": "python3"
  },
  "language_info": {
   "codemirror_mode": {
    "name": "ipython",
    "version": 3
   },
   "file_extension": ".py",
   "mimetype": "text/x-python",
   "name": "python",
   "nbconvert_exporter": "python",
   "pygments_lexer": "ipython3",
   "version": "3.8.19"
  },
  "orig_nbformat": 4
 },
 "nbformat": 4,
 "nbformat_minor": 2
}
